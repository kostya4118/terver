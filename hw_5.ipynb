{
  "nbformat": 4,
  "nbformat_minor": 0,
  "metadata": {
    "colab": {
      "name": "hw_5.ipynb",
      "provenance": []
    },
    "kernelspec": {
      "name": "python3",
      "display_name": "Python 3"
    },
    "language_info": {
      "name": "python"
    }
  },
  "cells": [
    {
      "cell_type": "code",
      "metadata": {
        "id": "0tS5BuRiAKGb"
      },
      "source": [
        "import numpy as np\n",
        "from scipy.stats import norm"
      ],
      "execution_count": 23,
      "outputs": []
    },
    {
      "cell_type": "markdown",
      "metadata": {
        "id": "l9c6WaC_9XR2"
      },
      "source": [
        "##Задание 1\n",
        "Известно, что генеральная совокупность распределена нормально со средним квадратическим отклонением, равным 16. Найти доверительный интервал для оценки математического ожидания с надежностью 0.95, если выборочная средняя M = 80, а объем выборки n = 256."
      ]
    },
    {
      "cell_type": "markdown",
      "metadata": {
        "id": "8bMpCMkfV54S"
      },
      "source": [
        "$α = 1-0,95=0,05$ \\\\"
      ]
    },
    {
      "cell_type": "code",
      "metadata": {
        "colab": {
          "base_uri": "https://localhost:8080/"
        },
        "id": "Ag7vTpR1WIxY",
        "outputId": "e57aeb31-e36a-42c4-8091-f2209e7fc69b"
      },
      "source": [
        "Z = round(norm.ppf(0.05/2), 3)\n",
        "Z"
      ],
      "execution_count": 24,
      "outputs": [
        {
          "output_type": "execute_result",
          "data": {
            "text/plain": [
              "-1.96"
            ]
          },
          "metadata": {},
          "execution_count": 24
        }
      ]
    },
    {
      "cell_type": "markdown",
      "metadata": {
        "id": "VWmm2VuwYVGR"
      },
      "source": [
        "$\\overline{X} \\pm Z_{α/2} \\cdot \\frac{\\sigma}{\\sqrt{n}}=80 \\pm 1,96 \\cdot \\frac{16}{\\sqrt{256}}=[78,04;81,96]$ "
      ]
    },
    {
      "cell_type": "markdown",
      "metadata": {
        "id": "jxdtdnLq9pv-"
      },
      "source": [
        "##Задание 2\n",
        "В результате 10 независимых измерений некоторой величины X, выполненных с одинаковой точностью, получены опытные данные: 6.9, 6.1, 6.2, 6.8, 7.5, 6.3, 6.4, 6.9, 6.7, 6.1 Предполагая, что результаты измерений подчинены нормальному закону распределения вероятностей, оценить истинное значение величины X при помощи доверительного интервала, покрывающего это значение с доверительной вероятностью 0,95."
      ]
    },
    {
      "cell_type": "code",
      "metadata": {
        "colab": {
          "base_uri": "https://localhost:8080/"
        },
        "id": "uz9qCYMgb_h2",
        "outputId": "d1a95b86-99e4-4f5e-feae-b7b821e0ae91"
      },
      "source": [
        "x = np.array([6.9, 6.1, 6.2, 6.8, 7.5, 6.3, 6.4, 6.9, 6.7, 6.1])\n",
        "X = round(x.mean(), 3)\n",
        "X"
      ],
      "execution_count": 25,
      "outputs": [
        {
          "output_type": "execute_result",
          "data": {
            "text/plain": [
              "6.59"
            ]
          },
          "metadata": {},
          "execution_count": 25
        }
      ]
    },
    {
      "cell_type": "markdown",
      "metadata": {
        "id": "qwOosKQBboOo"
      },
      "source": [
        "$α = 1-0,95=0,05$ \\\\"
      ]
    },
    {
      "cell_type": "code",
      "metadata": {
        "colab": {
          "base_uri": "https://localhost:8080/"
        },
        "id": "P2hu8SSMdYZD",
        "outputId": "d01d141c-e589-4615-e247-76f26ecc04a4"
      },
      "source": [
        "sigma = round(np.std(x, ddof=1), 3)\n",
        "sigma"
      ],
      "execution_count": 26,
      "outputs": [
        {
          "output_type": "execute_result",
          "data": {
            "text/plain": [
              "0.451"
            ]
          },
          "metadata": {},
          "execution_count": 26
        }
      ]
    },
    {
      "cell_type": "markdown",
      "metadata": {
        "id": "D_osv5dffZwk"
      },
      "source": [
        "$t_{α/2}=2,262$  (по таблице) \\\\\n",
        "\n",
        "$\\overline{X} \\pm t_{α/2} \\cdot \\frac{\\sigma}{\\sqrt{n}}$ "
      ]
    },
    {
      "cell_type": "code",
      "metadata": {
        "colab": {
          "base_uri": "https://localhost:8080/"
        },
        "id": "jKiWu-imhw8Z",
        "outputId": "8c2fb036-defe-406b-fef1-906b7f2a153c"
      },
      "source": [
        "delta = round(2.262*sigma/np.sqrt(10), 3)\n",
        "print(f'Доверительный интревал: [{(X-delta):.3f}; {X+delta}]')"
      ],
      "execution_count": 27,
      "outputs": [
        {
          "output_type": "stream",
          "name": "stdout",
          "text": [
            "Доверительный интревал: [6.267; 6.913]\n"
          ]
        }
      ]
    },
    {
      "cell_type": "markdown",
      "metadata": {
        "id": "HO2JbZg_9xaM"
      },
      "source": [
        "##Задание 3\n",
        "Утверждается, что шарики для подшипников, изготовленные автоматическим станком, имеют средний диаметр 17 мм. Используя односторонний критерий с α=0,05, проверить эту гипотезу, если в выборке из n=100 шариков средний диаметр оказался равным 17.5 мм, а дисперсия известна и равна 4 кв.мм."
      ]
    },
    {
      "cell_type": "markdown",
      "metadata": {
        "id": "g8Oykj3z-Mmo"
      },
      "source": [
        "$\\mu_0 = 17$ \\\\\n",
        "$\\mu = 17,5$ \\\\\n",
        "$H_0:  \\ \\mu = \\mu_0$ \\\\\n",
        "$H_1: \\ \\mu > \\mu_0$ \\\\\n",
        "$α = 0,05$ \\\\\n",
        "Дисперсия известна, поэтому применяем Z-критерий. \\\\\n"
      ]
    },
    {
      "cell_type": "code",
      "metadata": {
        "colab": {
          "base_uri": "https://localhost:8080/"
        },
        "id": "ckNfMfe-J_FH",
        "outputId": "681e9224-3738-4a81-defe-93a310454191"
      },
      "source": [
        "Z_alfa = round(norm.ppf(1-0.05), 3)\n",
        "Z_alfa"
      ],
      "execution_count": 28,
      "outputs": [
        {
          "output_type": "execute_result",
          "data": {
            "text/plain": [
              "1.645"
            ]
          },
          "metadata": {},
          "execution_count": 28
        }
      ]
    },
    {
      "cell_type": "markdown",
      "metadata": {
        "id": "X-6Y2X7bQ9b7"
      },
      "source": [
        "$SE=\\frac{\\sqrt{D}}{\\sqrt{n}}=\\frac{\\sqrt{4}}{\\sqrt{100}}=0,2$ \\\\\n",
        "$Z_н=\\frac{\\mu-\\mu_0}{SE}=\\frac{17,5-17}{0,2}=2,5$ \\\\\n",
        "\n",
        "$Z_н$ лежит правее, чем $Z_α$, значит верна $H_1$, то есть изначальное утверждение неверно.\n"
      ]
    },
    {
      "cell_type": "markdown",
      "metadata": {
        "id": "-V64ExeX9895"
      },
      "source": [
        "##Задание 4\n",
        "Продавец утверждает, что средний вес пачки печенья составляет 200 г. Из партии извлечена выборка из 10 пачек. Вес каждой пачки составляет: 202, 203, 199, 197, 195, 201, 200, 204, 194, 190. Известно, что их веса распределены нормально.\n",
        "Верно ли утверждение продавца, если учитывать, что доверительная вероятность равна 99%?"
      ]
    },
    {
      "cell_type": "markdown",
      "metadata": {
        "id": "3bcFayw-XI0f"
      },
      "source": [
        "$\\mu_0 = 200$"
      ]
    },
    {
      "cell_type": "code",
      "metadata": {
        "colab": {
          "base_uri": "https://localhost:8080/"
        },
        "id": "TNkUQTSzXjDW",
        "outputId": "426dda34-8d0e-451f-a6e4-76bc634b81f8"
      },
      "source": [
        "a = np.array([202, 203, 199, 197, 195, 201, 200, 204, 194, 190])\n",
        "n = len(a)\n",
        "mu = a.mean()\n",
        "mu"
      ],
      "execution_count": 29,
      "outputs": [
        {
          "output_type": "execute_result",
          "data": {
            "text/plain": [
              "198.5"
            ]
          },
          "metadata": {},
          "execution_count": 29
        }
      ]
    },
    {
      "cell_type": "markdown",
      "metadata": {
        "id": "38vDdeM2YRHc"
      },
      "source": [
        "$H_0:  \\ \\mu = \\mu_0$ \\\\\n",
        "$H_1: \\ \\mu \\neq \\mu_0$ \\\\\n",
        "$α = 1-0,99=0,01$ \\\\\n",
        "Дисперсия неизвестна, поэтому применяем t-критерий Стьюдента. \\\\\n",
        "$t_1=-3,25; t_2=3,25$ (по таблице)"
      ]
    },
    {
      "cell_type": "code",
      "metadata": {
        "colab": {
          "base_uri": "https://localhost:8080/"
        },
        "id": "5vG_yj5_hFCk",
        "outputId": "40e87e80-7bda-49eb-c138-e79b2a927dc3"
      },
      "source": [
        "sigma = np.std(a, ddof=1)\n",
        "sigma"
      ],
      "execution_count": 30,
      "outputs": [
        {
          "output_type": "execute_result",
          "data": {
            "text/plain": [
              "4.453463071962462"
            ]
          },
          "metadata": {},
          "execution_count": 30
        }
      ]
    },
    {
      "cell_type": "markdown",
      "metadata": {
        "id": "CemXSvGfhCzi"
      },
      "source": [
        "Найдём $t_н$:"
      ]
    },
    {
      "cell_type": "code",
      "metadata": {
        "colab": {
          "base_uri": "https://localhost:8080/"
        },
        "id": "cSES3M3zj-GS",
        "outputId": "a16ed7d0-aa95-4a19-bdaa-c9bc3e00b520"
      },
      "source": [
        "t_n = round((mu - 200)/(sigma/np.sqrt(n)), 3)\n",
        "t_n"
      ],
      "execution_count": 31,
      "outputs": [
        {
          "output_type": "execute_result",
          "data": {
            "text/plain": [
              "-1.065"
            ]
          },
          "metadata": {},
          "execution_count": 31
        }
      ]
    },
    {
      "cell_type": "markdown",
      "metadata": {
        "id": "bE5Fhch9nY0H"
      },
      "source": [
        "$t_1<t_н<t_2$, значит верна $H_0$, то есть утверждение  продавца верно."
      ]
    }
  ]
}