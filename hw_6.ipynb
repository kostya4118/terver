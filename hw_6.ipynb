{
  "nbformat": 4,
  "nbformat_minor": 0,
  "metadata": {
    "colab": {
      "name": "hw_6.ipynb",
      "provenance": []
    },
    "kernelspec": {
      "name": "python3",
      "display_name": "Python 3"
    },
    "language_info": {
      "name": "python"
    }
  },
  "cells": [
    {
      "cell_type": "code",
      "metadata": {
        "id": "5k_ChJ5tfj5j"
      },
      "source": [
        "import numpy as np\n",
        "import pandas as pd\n",
        "import scipy.stats as stats\n",
        "import matplotlib.pyplot as plt"
      ],
      "execution_count": 61,
      "outputs": []
    },
    {
      "cell_type": "markdown",
      "metadata": {
        "id": "7n-J_lzfey03"
      },
      "source": [
        "##Задание 1\n",
        "Даны значения величины заработной платы заемщиков банка (zp) и значения их поведенческого кредитного скоринга (ks):\n",
        "zp = [35, 45, 190, 200, 40, 70, 54, 150, 120, 110],\n",
        "ks = [401, 574, 874, 919, 459, 739, 653, 902, 746, 832].\n",
        "Найдите ковариацию этих двух величин с помощью элементарных действий, а затем с помощью функции cov из numpy\n",
        "Полученные значения должны быть равны.\n",
        "Найдите коэффициент корреляции Пирсона с помощью ковариации и среднеквадратичных отклонений двух признаков,\n",
        "а затем с использованием функций из библиотек numpy и pandas."
      ]
    },
    {
      "cell_type": "code",
      "metadata": {
        "id": "gd5rU-dOr3wF"
      },
      "source": [
        "zp = np.array([35, 45, 190, 200, 40, 70, 54, 150, 120, 110])\n",
        "ks = np.array([401, 574, 874, 919, 459, 739, 653, 902, 746, 832])"
      ],
      "execution_count": 62,
      "outputs": []
    },
    {
      "cell_type": "markdown",
      "metadata": {
        "id": "kGUUFtLgwSM7"
      },
      "source": [
        "Найдём ковариацию этих величин с помощью элементарных действий"
      ]
    },
    {
      "cell_type": "code",
      "metadata": {
        "colab": {
          "base_uri": "https://localhost:8080/"
        },
        "id": "b12n5NOp8xd3",
        "outputId": "b91ff7a2-776a-4a2b-94d1-bde6579bc90d"
      },
      "source": [
        "cov_1 = (zp*ks).mean() - zp.mean()*ks.mean()\n",
        "round(cov_1, 2)"
      ],
      "execution_count": 63,
      "outputs": [
        {
          "output_type": "execute_result",
          "data": {
            "text/plain": [
              "9157.84"
            ]
          },
          "metadata": {},
          "execution_count": 63
        }
      ]
    },
    {
      "cell_type": "markdown",
      "metadata": {
        "id": "pjkd95l7DfkF"
      },
      "source": [
        "с помощью функции cov из numpy"
      ]
    },
    {
      "cell_type": "code",
      "metadata": {
        "colab": {
          "base_uri": "https://localhost:8080/"
        },
        "id": "s4eDW_B5CePZ",
        "outputId": "7c0c886a-c03a-4f9a-ba8a-b9c7b95c9c27"
      },
      "source": [
        "cov_2 = np.cov(zp, ks, ddof=0)[0][1]\n",
        "cov_2"
      ],
      "execution_count": 64,
      "outputs": [
        {
          "output_type": "execute_result",
          "data": {
            "text/plain": [
              "9157.84"
            ]
          },
          "metadata": {},
          "execution_count": 64
        }
      ]
    },
    {
      "cell_type": "markdown",
      "metadata": {
        "id": "q3e9pBW-DUL5"
      },
      "source": [
        "Найдём коэффициент корреляции Пирсона с помощью ковариации и среднеквадратичных отклонений двух признаков"
      ]
    },
    {
      "cell_type": "code",
      "metadata": {
        "colab": {
          "base_uri": "https://localhost:8080/"
        },
        "id": "C3NrGk_kDh_J",
        "outputId": "30e2646c-3cfd-4811-e81f-46ccb2cf1f85"
      },
      "source": [
        "sig_zp = np.std(zp, ddof=0)\n",
        "sig_ks = np.std(ks, ddof=0)\n",
        "sig_zp, sig_ks"
      ],
      "execution_count": 65,
      "outputs": [
        {
          "output_type": "execute_result",
          "data": {
            "text/plain": [
              "(59.115480206118605, 174.55340157098058)"
            ]
          },
          "metadata": {},
          "execution_count": 65
        }
      ]
    },
    {
      "cell_type": "code",
      "metadata": {
        "colab": {
          "base_uri": "https://localhost:8080/"
        },
        "id": "h7aqqp6wEIx6",
        "outputId": "522bf774-f4db-4505-8c60-b6f4627f37f4"
      },
      "source": [
        "r = cov_1 / (sig_zp * sig_ks)\n",
        "r"
      ],
      "execution_count": 66,
      "outputs": [
        {
          "output_type": "execute_result",
          "data": {
            "text/plain": [
              "0.8874900920739158"
            ]
          },
          "metadata": {},
          "execution_count": 66
        }
      ]
    },
    {
      "cell_type": "markdown",
      "metadata": {
        "id": "93oBKoPbFDYz"
      },
      "source": [
        "с использованием функций из библиотек numpy и pandas"
      ]
    },
    {
      "cell_type": "code",
      "metadata": {
        "colab": {
          "base_uri": "https://localhost:8080/"
        },
        "id": "J1XNbqyruqU3",
        "outputId": "e2a54252-3e63-4dba-9a4d-9ee4f211e5b7"
      },
      "source": [
        "np.corrcoef(zp, ks)[0][1]"
      ],
      "execution_count": 67,
      "outputs": [
        {
          "output_type": "execute_result",
          "data": {
            "text/plain": [
              "0.8874900920739162"
            ]
          },
          "metadata": {},
          "execution_count": 67
        }
      ]
    },
    {
      "cell_type": "code",
      "metadata": {
        "colab": {
          "base_uri": "https://localhost:8080/"
        },
        "id": "AivjIiPsGplE",
        "outputId": "ad98e872-2949-4015-c511-3ee2bad0c276"
      },
      "source": [
        "df = pd.DataFrame({'zp' : zp, 'ks' : ks})\n",
        "df.corr().loc['zp', 'ks']"
      ],
      "execution_count": 68,
      "outputs": [
        {
          "output_type": "execute_result",
          "data": {
            "text/plain": [
              "0.8874900920739162"
            ]
          },
          "metadata": {},
          "execution_count": 68
        }
      ]
    },
    {
      "cell_type": "markdown",
      "metadata": {
        "id": "zqB7NrvhfGjI"
      },
      "source": [
        "##Задание 2\n",
        "Измерены значения IQ выборки студентов,\n",
        "обучающихся в местных технических вузах:\n",
        "131, 125, 115, 122, 131, 115, 107, 99, 125, 111.\n",
        "Известно, что в генеральной совокупности IQ распределен нормально.\n",
        "Найдите доверительный интервал для математического ожидания с надежностью 0.95."
      ]
    },
    {
      "cell_type": "code",
      "metadata": {
        "colab": {
          "base_uri": "https://localhost:8080/"
        },
        "id": "UhnCpIE0ffNq",
        "outputId": "a23afc9c-3d09-4f51-8dce-64dde37f1ac6"
      },
      "source": [
        "iq = np.array([131, 125, 115, 122, 131, 115, 107, 99, 125, 111])\n",
        "n = len(iq)\n",
        "mu = np.mean(iq)\n",
        "mu"
      ],
      "execution_count": 69,
      "outputs": [
        {
          "output_type": "execute_result",
          "data": {
            "text/plain": [
              "118.1"
            ]
          },
          "metadata": {},
          "execution_count": 69
        }
      ]
    },
    {
      "cell_type": "markdown",
      "metadata": {
        "id": "BAlYLgf8grCQ"
      },
      "source": [
        "$α = 1-0,95=0,05$ "
      ]
    },
    {
      "cell_type": "code",
      "metadata": {
        "colab": {
          "base_uri": "https://localhost:8080/"
        },
        "id": "L1Dxx4shgshG",
        "outputId": "ea62f024-1e21-427e-edf3-065a9b4ac56b"
      },
      "source": [
        "sigma = np.std(iq, ddof=1)\n",
        "sigma"
      ],
      "execution_count": 70,
      "outputs": [
        {
          "output_type": "execute_result",
          "data": {
            "text/plain": [
              "10.54566788359614"
            ]
          },
          "metadata": {},
          "execution_count": 70
        }
      ]
    },
    {
      "cell_type": "code",
      "metadata": {
        "colab": {
          "base_uri": "https://localhost:8080/"
        },
        "id": "IJXcxCK8he96",
        "outputId": "0bd19afe-cde3-4617-f348-8454a87323f1"
      },
      "source": [
        "df = n-1\n",
        "t_t = stats.t.ppf(0.05/2, df)\n",
        "t_t"
      ],
      "execution_count": 71,
      "outputs": [
        {
          "output_type": "execute_result",
          "data": {
            "text/plain": [
              "-2.262157162740992"
            ]
          },
          "metadata": {},
          "execution_count": 71
        }
      ]
    },
    {
      "cell_type": "markdown",
      "metadata": {
        "id": "7uSRXtKTlfAb"
      },
      "source": [
        "$\\overline{X} \\pm t_{α/2} \\cdot \\frac{\\sigma}{\\sqrt{n}}$ "
      ]
    },
    {
      "cell_type": "code",
      "metadata": {
        "colab": {
          "base_uri": "https://localhost:8080/"
        },
        "id": "KBGh9B7llg73",
        "outputId": "c468f90b-0e7d-4440-f7fd-f81f4e42cec7"
      },
      "source": [
        "delta = t_t*sigma/np.sqrt(10)\n",
        "print(f'Доверительный интревал: [{(mu+delta):.3f}; {(mu-delta):.3f}]')"
      ],
      "execution_count": 72,
      "outputs": [
        {
          "output_type": "stream",
          "name": "stdout",
          "text": [
            "Доверительный интревал: [110.556; 125.644]\n"
          ]
        }
      ]
    },
    {
      "cell_type": "markdown",
      "metadata": {
        "id": "OyK1RAeZfRDK"
      },
      "source": [
        "##Задание 3\n",
        "Известно, что рост футболистов в сборной распределен нормально\n",
        "с дисперсией генеральной совокупности, равной 25 кв.см. Объем выборки равен 27,\n",
        "среднее выборочное составляет 174.2. Найдите доверительный интервал для математического\n",
        "ожидания с надежностью 0.95."
      ]
    },
    {
      "cell_type": "markdown",
      "metadata": {
        "id": "tm-1J4hkoI6O"
      },
      "source": [
        "$α = 1-0,95=0,05$ "
      ]
    },
    {
      "cell_type": "code",
      "metadata": {
        "colab": {
          "base_uri": "https://localhost:8080/"
        },
        "id": "QSYAEAI_n21Y",
        "outputId": "93c22edf-6397-48fc-c0ef-a21b5c13bfc0"
      },
      "source": [
        "Z = stats.norm.ppf(0.05/2)\n",
        "Z"
      ],
      "execution_count": 73,
      "outputs": [
        {
          "output_type": "execute_result",
          "data": {
            "text/plain": [
              "-1.9599639845400545"
            ]
          },
          "metadata": {},
          "execution_count": 73
        }
      ]
    },
    {
      "cell_type": "code",
      "metadata": {
        "colab": {
          "base_uri": "https://localhost:8080/"
        },
        "id": "iFek5IoZnkIf",
        "outputId": "a74b0630-6a14-46f3-8141-c7826399f86b"
      },
      "source": [
        "sigma = np.sqrt(25)\n",
        "sigma"
      ],
      "execution_count": 74,
      "outputs": [
        {
          "output_type": "execute_result",
          "data": {
            "text/plain": [
              "5.0"
            ]
          },
          "metadata": {},
          "execution_count": 74
        }
      ]
    },
    {
      "cell_type": "markdown",
      "metadata": {
        "id": "aRolp47pnUpb"
      },
      "source": [
        "$\\overline{X} \\pm Z_{α/2} \\cdot \\frac{\\sigma}{\\sqrt{n}}$ "
      ]
    },
    {
      "cell_type": "code",
      "metadata": {
        "colab": {
          "base_uri": "https://localhost:8080/"
        },
        "id": "NfWql2DseWDI",
        "outputId": "7fd7efd9-d7dd-4194-9dcc-139f8178c1c8"
      },
      "source": [
        "delta = Z*sigma/np.sqrt(27)\n",
        "print(f'Доверительный интревал: [{(174.2+delta):.2f}; {(174.2-delta):.2f}]')"
      ],
      "execution_count": 75,
      "outputs": [
        {
          "output_type": "stream",
          "name": "stdout",
          "text": [
            "Доверительный интревал: [172.31; 176.09]\n"
          ]
        }
      ]
    }
  ]
}