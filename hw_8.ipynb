{
  "nbformat": 4,
  "nbformat_minor": 0,
  "metadata": {
    "colab": {
      "name": "hw_8.ipynb",
      "provenance": []
    },
    "kernelspec": {
      "name": "python3",
      "display_name": "Python 3"
    },
    "language_info": {
      "name": "python"
    }
  },
  "cells": [
    {
      "cell_type": "markdown",
      "metadata": {
        "id": "8el8uJ13pZza"
      },
      "source": [
        "##Задание 1\n",
        "Провести дисперсионный анализ для определения того, есть ли различия среднего роста среди взрослых футболистов, хоккеистов и штангистов. Даны значения роста в трех группах случайно выбранных спортсменов: Футболисты: 173, 175, 180, 178, 177, 185, 183, 182. Хоккеисты: 177, 179, 180, 188, 177, 172, 171, 184, 180. Штангисты: 172, 173, 169, 177, 166, 180, 178, 177, 172, 166, 170."
      ]
    },
    {
      "cell_type": "code",
      "metadata": {
        "id": "rQPXS3FvSe8n"
      },
      "source": [
        "import numpy as np\n",
        "from scipy import stats"
      ],
      "execution_count": 36,
      "outputs": []
    },
    {
      "cell_type": "code",
      "metadata": {
        "colab": {
          "base_uri": "https://localhost:8080/"
        },
        "id": "8mvBb10wpVND",
        "outputId": "12f68e35-e24c-4a76-cb22-31ba4df25ebf"
      },
      "source": [
        "football = np.array([173, 175, 180, 178, 177, 185, 183, 182])\n",
        "hockey = np.array([177, 179, 180, 188, 177, 172, 171, 184, 180])\n",
        "tedgists = np.array([172, 173, 169, 177, 166, 180, 178, 177, 172, 166, 170])\n",
        "\n",
        "mu_f = football.mean()\n",
        "mu_h = hockey.mean()\n",
        "mu_t = tedgists.mean()\n",
        "mu_f, mu_h, mu_t"
      ],
      "execution_count": 37,
      "outputs": [
        {
          "output_type": "execute_result",
          "data": {
            "text/plain": [
              "(179.125, 178.66666666666666, 172.72727272727272)"
            ]
          },
          "metadata": {},
          "execution_count": 37
        }
      ]
    },
    {
      "cell_type": "markdown",
      "metadata": {
        "id": "lSDqTVvQuDsN"
      },
      "source": [
        "$H0: \\mu_{football}= \\mu_{hockey}= \\mu_{tedgists}$ \\\\\n",
        "$H1: \\mu_{football} \\neq \\mu_{hockey} \\neq \\mu_{tedgists}$ \\\\\n",
        "$\\alpha = 0,05$"
      ]
    },
    {
      "cell_type": "code",
      "metadata": {
        "colab": {
          "base_uri": "https://localhost:8080/"
        },
        "id": "0ix9I8HVzisg",
        "outputId": "1e00c14c-f421-4b8a-a2a3-0bc48981f5f7"
      },
      "source": [
        "k = 3\n",
        "n_f = len(football)\n",
        "n_h = len(hockey)\n",
        "n_t = len(tedgists)\n",
        "\n",
        "all = np.concatenate([football, hockey, tedgists],axis=0)\n",
        "n_all = len(all)\n",
        "mu_all = all.mean()\n",
        "n_all, mu_all"
      ],
      "execution_count": 38,
      "outputs": [
        {
          "output_type": "execute_result",
          "data": {
            "text/plain": [
              "(28, 176.46428571428572)"
            ]
          },
          "metadata": {},
          "execution_count": 38
        }
      ]
    },
    {
      "cell_type": "code",
      "metadata": {
        "colab": {
          "base_uri": "https://localhost:8080/"
        },
        "id": "SYVdkbbq7tzg",
        "outputId": "b39eaf1f-d9b7-4afd-c225-20219fa8a748"
      },
      "source": [
        "S2 = np.sum((all - mu_all)**2)\n",
        "S2"
      ],
      "execution_count": 39,
      "outputs": [
        {
          "output_type": "execute_result",
          "data": {
            "text/plain": [
              "830.9642857142854"
            ]
          },
          "metadata": {},
          "execution_count": 39
        }
      ]
    },
    {
      "cell_type": "code",
      "metadata": {
        "colab": {
          "base_uri": "https://localhost:8080/"
        },
        "id": "jE5AZs6J8hfW",
        "outputId": "92aecc98-4d9c-414e-9fd0-5fe9a256ea0a"
      },
      "source": [
        "S2f = (mu_f - mu_all)**2 * n_f + (mu_h - mu_all)**2 * n_h + (mu_t - mu_all)**2 * n_t\n",
        "S2f"
      ],
      "execution_count": 40,
      "outputs": [
        {
          "output_type": "execute_result",
          "data": {
            "text/plain": [
              "253.9074675324678"
            ]
          },
          "metadata": {},
          "execution_count": 40
        }
      ]
    },
    {
      "cell_type": "code",
      "metadata": {
        "colab": {
          "base_uri": "https://localhost:8080/"
        },
        "id": "IgdWptPGFmDw",
        "outputId": "8d6bba03-9e3b-4b90-929d-b9ccf7bedd69"
      },
      "source": [
        "sigma2f = S2f / (k - 1)\n",
        "sigma2f"
      ],
      "execution_count": 41,
      "outputs": [
        {
          "output_type": "execute_result",
          "data": {
            "text/plain": [
              "126.9537337662339"
            ]
          },
          "metadata": {},
          "execution_count": 41
        }
      ]
    },
    {
      "cell_type": "code",
      "metadata": {
        "colab": {
          "base_uri": "https://localhost:8080/"
        },
        "id": "GvLe161TGLFE",
        "outputId": "7289f785-ef8b-4543-9d1e-22f6bc64ece9"
      },
      "source": [
        "S2ost = np.sum((football - mu_f)**2) + np.sum((hockey - mu_h)**2) + np.sum((tedgists - mu_t)**2)\n",
        "S2ost "
      ],
      "execution_count": 42,
      "outputs": [
        {
          "output_type": "execute_result",
          "data": {
            "text/plain": [
              "577.0568181818182"
            ]
          },
          "metadata": {},
          "execution_count": 42
        }
      ]
    },
    {
      "cell_type": "code",
      "metadata": {
        "colab": {
          "base_uri": "https://localhost:8080/"
        },
        "id": "mKgRtRYxIKUm",
        "outputId": "e66145a2-a0a5-4d98-e3b0-dcf1ca20d98b"
      },
      "source": [
        "round(S2f + S2ost, 10) == round(S2, 10)"
      ],
      "execution_count": 43,
      "outputs": [
        {
          "output_type": "execute_result",
          "data": {
            "text/plain": [
              "True"
            ]
          },
          "metadata": {},
          "execution_count": 43
        }
      ]
    },
    {
      "cell_type": "code",
      "metadata": {
        "colab": {
          "base_uri": "https://localhost:8080/"
        },
        "id": "jou-EwFtJuwo",
        "outputId": "d93cd205-1d1e-47b0-e7cd-8294621a9c40"
      },
      "source": [
        "sigma2ost = S2ost / (n_all - k)\n",
        "sigma2ost"
      ],
      "execution_count": 44,
      "outputs": [
        {
          "output_type": "execute_result",
          "data": {
            "text/plain": [
              "23.08227272727273"
            ]
          },
          "metadata": {},
          "execution_count": 44
        }
      ]
    },
    {
      "cell_type": "code",
      "metadata": {
        "colab": {
          "base_uri": "https://localhost:8080/"
        },
        "id": "YNfG__i2KcsJ",
        "outputId": "9d4aef30-8bf1-40df-ca25-04afef810063"
      },
      "source": [
        "F_nab = sigma2f / sigma2ost\n",
        "F_nab"
      ],
      "execution_count": 45,
      "outputs": [
        {
          "output_type": "execute_result",
          "data": {
            "text/plain": [
              "5.500053450812598"
            ]
          },
          "metadata": {},
          "execution_count": 45
        }
      ]
    },
    {
      "cell_type": "markdown",
      "metadata": {
        "id": "NvsCxsSUMQg0"
      },
      "source": [
        "$df_{межд} = k-1 =3-1 = 2$ \\\\\n",
        "$df_{внутр} = n-k = 28 - 3 = 25$ \\\\\n",
        "$F_{табл} = 3,39$"
      ]
    },
    {
      "cell_type": "code",
      "metadata": {
        "colab": {
          "base_uri": "https://localhost:8080/"
        },
        "id": "S_8lCDNFOWTq",
        "outputId": "fc6c6c22-cea7-4254-f83e-287bc3906028"
      },
      "source": [
        "F_nab > 3.39"
      ],
      "execution_count": 46,
      "outputs": [
        {
          "output_type": "execute_result",
          "data": {
            "text/plain": [
              "True"
            ]
          },
          "metadata": {},
          "execution_count": 46
        }
      ]
    },
    {
      "cell_type": "markdown",
      "metadata": {
        "id": "epkJvyMXP_ON"
      },
      "source": [
        "Следовательно, верна гипотеза H1, то есть различия среднего роста среди взрослых футболистов, хоккеистов и штангистов есть."
      ]
    },
    {
      "cell_type": "markdown",
      "metadata": {
        "id": "qa6tY9HmQODc"
      },
      "source": [
        "Проверим наш вывод с помощью функции"
      ]
    },
    {
      "cell_type": "code",
      "metadata": {
        "colab": {
          "base_uri": "https://localhost:8080/"
        },
        "id": "CM8fJtsaRSW1",
        "outputId": "17f28bd0-98f9-480f-e266-f005a93cc169"
      },
      "source": [
        "stats.f_oneway(football, hockey, tedgists)\n"
      ],
      "execution_count": 53,
      "outputs": [
        {
          "output_type": "execute_result",
          "data": {
            "text/plain": [
              "F_onewayResult(statistic=5.500053450812596, pvalue=0.010482206918698694)"
            ]
          },
          "metadata": {},
          "execution_count": 53
        }
      ]
    },
    {
      "cell_type": "markdown",
      "metadata": {
        "id": "fpj56JGOS95V"
      },
      "source": [
        "$P-value < \\alpha$, значит, верна гипотеза H1, т.е. различие между группами статистически значимое."
      ]
    }
  ]
}