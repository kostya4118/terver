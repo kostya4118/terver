{
  "nbformat": 4,
  "nbformat_minor": 0,
  "metadata": {
    "colab": {
      "name": "hw_7.ipynb",
      "provenance": []
    },
    "kernelspec": {
      "name": "python3",
      "display_name": "Python 3"
    },
    "language_info": {
      "name": "python"
    }
  },
  "cells": [
    {
      "cell_type": "code",
      "metadata": {
        "id": "V1RHcqXZBUoS"
      },
      "source": [
        "import numpy as np\n",
        "import pandas as pd\n",
        "import matplotlib.pyplot as plt\n",
        "%matplotlib inline"
      ],
      "execution_count": null,
      "outputs": []
    },
    {
      "cell_type": "markdown",
      "metadata": {
        "id": "-NNgLuFnBb44"
      },
      "source": [
        "##Задание 1\n",
        "Даны значения величины заработной платы заемщиков банка (zp) и значения их поведенческого кредитного скоринга (ks): zp = [35, 45, 190, 200, 40, 70, 54, 150, 120, 110], ks = [401, 574, 874, 919, 459, 739, 653, 902, 746, 832]. Используя математические операции, посчитать коэффициенты линейной регрессии, приняв за X заработную плату (то есть, zp - признак), а за y - значения скорингового балла (то есть, ks - целевая переменная). Произвести расчет как с использованием intercept, так и без."
      ]
    },
    {
      "cell_type": "code",
      "metadata": {
        "id": "TH3S5mEIB-px"
      },
      "source": [
        "zp = np.array([35, 45, 190, 200, 40, 70, 54, 150, 120, 110])\n",
        "ks = np.array([401, 574, 874, 919, 459, 739, 653, 902, 746, 832])\n",
        "x = zp\n",
        "y = ks\n",
        "n = len(x)"
      ],
      "execution_count": null,
      "outputs": []
    },
    {
      "cell_type": "markdown",
      "metadata": {
        "id": "sdt9hrASGKgl"
      },
      "source": [
        "Для нахождения коэффициентов регрессии $a$ и $b$ воспользуемся формулами:\n",
        "$$b = \\frac{\\overline{yx} - \\overline{y} \\cdot {\\overline{x}}}{\\overline{x^2} - (\\overline{x})^2};$$\n",
        "$$a = \\overline{y} - b \\cdot {\\overline{x}}.$$"
      ]
    },
    {
      "cell_type": "code",
      "metadata": {
        "colab": {
          "base_uri": "https://localhost:8080/"
        },
        "id": "QWvEVfxzGgxJ",
        "outputId": "0f390f07-3c26-4efb-ef3f-835021e6eccc"
      },
      "source": [
        "b = (np.mean(x * y) - np.mean(x) * np.mean(y)) / (np.mean(x**2) - np.mean(x) ** 2)\n",
        "b"
      ],
      "execution_count": null,
      "outputs": [
        {
          "output_type": "execute_result",
          "data": {
            "text/plain": [
              "2.620538882402765"
            ]
          },
          "metadata": {},
          "execution_count": 3
        }
      ]
    },
    {
      "cell_type": "code",
      "metadata": {
        "colab": {
          "base_uri": "https://localhost:8080/"
        },
        "id": "BLQWbsP5Gpkv",
        "outputId": "97d4acc3-f9d8-48cc-8771-0519243f2735"
      },
      "source": [
        "a = np.mean(y) - b * np.mean(x)\n",
        "a"
      ],
      "execution_count": null,
      "outputs": [
        {
          "output_type": "execute_result",
          "data": {
            "text/plain": [
              "444.1773573243596"
            ]
          },
          "metadata": {},
          "execution_count": 4
        }
      ]
    },
    {
      "cell_type": "markdown",
      "metadata": {
        "id": "F5XrpWGlJBpU"
      },
      "source": [
        "Итак, уравнение регрессии имеет вид (коэффициенты округлены до сотых):\n",
        "$$y = 444.18 + 2.62 \\cdot x$$"
      ]
    },
    {
      "cell_type": "code",
      "metadata": {
        "colab": {
          "base_uri": "https://localhost:8080/"
        },
        "id": "E4zwSxaOQqKw",
        "outputId": "86c3f7a9-bf08-4139-a342-abc2c3fb36a9"
      },
      "source": [
        "y_hat = a + b * x\n",
        "y_hat"
      ],
      "execution_count": null,
      "outputs": [
        {
          "output_type": "execute_result",
          "data": {
            "text/plain": [
              "array([535.89621821, 562.10160703, 942.07974498, 968.2851338 ,\n",
              "       548.99891262, 627.61507909, 585.68645697, 837.25818968,\n",
              "       758.64202321, 732.43663439])"
            ]
          },
          "metadata": {},
          "execution_count": 5
        }
      ]
    },
    {
      "cell_type": "code",
      "metadata": {
        "colab": {
          "base_uri": "https://localhost:8080/",
          "height": 298
        },
        "id": "TRvFeA4LHLD0",
        "outputId": "8fe52f89-67ea-4a0f-9ca5-c7ab8fdf1af8"
      },
      "source": [
        "plt.scatter(x, y)\n",
        "plt.plot(x, y_hat)\n",
        "plt.xlabel('Значения величины заработной платы')\n",
        "plt.ylabel('Значения поведенческого кредитного скоринга')\n",
        "plt.show()"
      ],
      "execution_count": null,
      "outputs": [
        {
          "output_type": "display_data",
          "data": {
            "image/png": "[encoded data removed]",
            "text/plain": [
              "<Figure size 432x288 with 1 Axes>"
            ]
          },
          "metadata": {
            "needs_background": "light"
          }
        }
      ]
    },
    {
      "cell_type": "markdown",
      "metadata": {
        "id": "mksjuXzrqbQG"
      },
      "source": [
        "Матричный метод без intercept"
      ]
    },
    {
      "cell_type": "code",
      "metadata": {
        "colab": {
          "base_uri": "https://localhost:8080/"
        },
        "id": "lYoPaq6aqnPi",
        "outputId": "35e653d3-726e-42e4-fc5d-22adf2125b9d"
      },
      "source": [
        "X = x.reshape(len(x), 1)\n",
        "Y = y.reshape(len(y), 1)\n",
        "B1 = np.dot(np.linalg.inv(np.dot(X.T, X)), X.T@Y)\n",
        "B1"
      ],
      "execution_count": null,
      "outputs": [
        {
          "output_type": "execute_result",
          "data": {
            "text/plain": [
              "array([[5.88982042]])"
            ]
          },
          "metadata": {},
          "execution_count": 7
        }
      ]
    },
    {
      "cell_type": "code",
      "metadata": {
        "colab": {
          "base_uri": "https://localhost:8080/",
          "height": 298
        },
        "id": "rSISj_Q0vR0v",
        "outputId": "114b1327-08af-491d-9781-d23ad9fa4ea9"
      },
      "source": [
        "plt.scatter(x, y)\n",
        "plt.plot(x, x*B1[0])\n",
        "plt.xlabel('Значения величины заработной платы')\n",
        "plt.ylabel('Значения поведенческого кредитного скоринга')\n",
        "plt.show()"
      ],
      "execution_count": null,
      "outputs": [
        {
          "output_type": "display_data",
          "data": {
            "image/png": "[encoded data removed]",
            "text/plain": [
              "<Figure size 432x288 with 1 Axes>"
            ]
          },
          "metadata": {
            "needs_background": "light"
          }
        }
      ]
    },
    {
      "cell_type": "markdown",
      "metadata": {
        "id": "W1WnEzMKx3Ha"
      },
      "source": [
        "Матричный метод с intercept"
      ]
    },
    {
      "cell_type": "code",
      "metadata": {
        "colab": {
          "base_uri": "https://localhost:8080/"
        },
        "id": "o9qXrjeDyR-a",
        "outputId": "ac2c7349-9297-48e4-baf4-47f475aeedba"
      },
      "source": [
        "X2 = np.hstack([np.ones((len(X), 1)), X])\n",
        "X2"
      ],
      "execution_count": null,
      "outputs": [
        {
          "output_type": "execute_result",
          "data": {
            "text/plain": [
              "array([[  1.,  35.],\n",
              "       [  1.,  45.],\n",
              "       [  1., 190.],\n",
              "       [  1., 200.],\n",
              "       [  1.,  40.],\n",
              "       [  1.,  70.],\n",
              "       [  1.,  54.],\n",
              "       [  1., 150.],\n",
              "       [  1., 120.],\n",
              "       [  1., 110.]])"
            ]
          },
          "metadata": {},
          "execution_count": 9
        }
      ]
    },
    {
      "cell_type": "code",
      "metadata": {
        "colab": {
          "base_uri": "https://localhost:8080/"
        },
        "id": "q6FElayoz0fV",
        "outputId": "98b3a3fd-4cc9-47f1-e820-47bc41a01e97"
      },
      "source": [
        "B2 = np.dot(np.linalg.inv(np.dot(X2.T, X2)), X2.T@Y)\n",
        "B2"
      ],
      "execution_count": null,
      "outputs": [
        {
          "output_type": "execute_result",
          "data": {
            "text/plain": [
              "array([[444.17735732],\n",
              "       [  2.62053888]])"
            ]
          },
          "metadata": {},
          "execution_count": 10
        }
      ]
    },
    {
      "cell_type": "code",
      "metadata": {
        "colab": {
          "base_uri": "https://localhost:8080/",
          "height": 298
        },
        "id": "o17f0JcT0HS9",
        "outputId": "2c3d821e-f735-43f2-a73f-4865b756b6fc"
      },
      "source": [
        "plt.scatter(x, y)\n",
        "plt.plot(x, B2[0] + x*B2[1])\n",
        "plt.xlabel('Значения величины заработной платы')\n",
        "plt.ylabel('Значения поведенческого кредитного скоринга')\n",
        "plt.show()"
      ],
      "execution_count": null,
      "outputs": [
        {
          "output_type": "display_data",
          "data": {
            "image/png": "[encoded data removed]",
            "text/plain": [
              "<Figure size 432x288 with 1 Axes>"
            ]
          },
          "metadata": {
            "needs_background": "light"
          }
        }
      ]
    },
    {
      "cell_type": "markdown",
      "metadata": {
        "id": "oiz3POaW2ZFW"
      },
      "source": [
        "##Задание 2\n",
        "Посчитать коэффициент линейной регрессии при заработной плате (zp), используя градиентный спуск (без intercept)."
      ]
    },
    {
      "cell_type": "code",
      "metadata": {
        "colab": {
          "base_uri": "https://localhost:8080/"
        },
        "id": "J8H4y3q9U5QH",
        "outputId": "4964c5f7-9172-4e02-ffdb-d627ea2c932b"
      },
      "source": [
        "def mse(B1, x = x, y = y, n = n):\n",
        "    return np.sum((y - B1 * x)**2)/n\n",
        "\n",
        "alpha = 1e-5\n",
        "B1 = 0.1\n",
        "\n",
        "for i in range(301):\n",
        "    B1 -= alpha * (2/n)*np.sum((B1 * x - y)*x)\n",
        "    if i%100 == 0:\n",
        "        print(f'Iteration = {i}, B1 = {B1}, mse = {mse(B1)}')"
      ],
      "execution_count": null,
      "outputs": [
        {
          "output_type": "stream",
          "name": "stdout",
          "text": [
            "Iteration = 0, B1 = 1.6952808000000004, mse = 298904.5992334053\n",
            "Iteration = 100, B1 = 5.889820420132646, mse = 56516.85841571941\n",
            "Iteration = 200, B1 = 5.889820420132688, mse = 56516.8584157194\n",
            "Iteration = 300, B1 = 5.889820420132688, mse = 56516.8584157194\n"
          ]
        }
      ]
    },
    {
      "cell_type": "code",
      "metadata": {
        "colab": {
          "base_uri": "https://localhost:8080/",
          "height": 298
        },
        "id": "NyZJR8WQkP6A",
        "outputId": "545785b3-8253-40f1-e812-98229b5004ae"
      },
      "source": [
        "plt.scatter(x, y)\n",
        "plt.plot(x, x*B1)\n",
        "plt.xlabel('Значения величины заработной платы')\n",
        "plt.ylabel('Значения поведенческого кредитного скоринга')\n",
        "plt.show()"
      ],
      "execution_count": null,
      "outputs": [
        {
          "output_type": "display_data",
          "data": {
            "image/png": "[encoded data removed]",
            "text/plain": [
              "<Figure size 432x288 with 1 Axes>"
            ]
          },
          "metadata": {
            "needs_background": "light"
          }
        }
      ]
    },
    {
      "cell_type": "markdown",
      "metadata": {
        "id": "VlHNJkw6hmbC"
      },
      "source": [
        "##Задание 3\n",
        "Произвести вычисления как в пункте 2, но с вычислением intercept. Учесть, что изменение коэффициентов должно производиться\n",
        "на каждом шаге одновременно (то есть изменение одного коэффициента не должно влиять на изменение другого во время одной итерации)."
      ]
    },
    {
      "cell_type": "code",
      "metadata": {
        "colab": {
          "base_uri": "https://localhost:8080/"
        },
        "id": "xaLQ7MYceImX",
        "outputId": "59d1d5dd-d07e-4547-a58b-65c38078b5e0"
      },
      "source": [
        "def mse(B0, B1, x = x, y = y, n = n):\n",
        "    return np.sum((y - (B0 + B1 * x))**2)/n\n",
        "\n",
        "alpha = 2e-5\n",
        "B1 = 0.1\n",
        "B0 = 0.1\n",
        "\n",
        "for i in range(1400001):\n",
        "    B1_pred = B1\n",
        "    B0_pred = B0\n",
        "    B1 -= alpha * (2/n)*np.sum((B1_pred * x + B0_pred - y)*x)\n",
        "    B0 -= alpha * (2/n)*np.sum(B1_pred * x + B0_pred - y)\n",
        "    if i%200000 == 0:\n",
        "        print(f'Iteration = {i}, B0 = {B0}, B1 = {B1}, mse = {mse(B0, B1)}')"
      ],
      "execution_count": null,
      "outputs": [
        {
          "output_type": "stream",
          "name": "stdout",
          "text": [
            "Iteration = 0, B0 = 0.1279864, B1 = 3.2901560000000005, mse = 149526.33499003082\n",
            "Iteration = 200000, B0 = 385.8148880087486, B1 = 3.0501124600955842, mse = 7334.441993584616\n",
            "Iteration = 400000, B0 = 436.50630817310923, B1 = 2.67700119572162, mse = 6485.341111576515\n",
            "Iteration = 600000, B0 = 443.1690895836179, B1 = 2.6279601787553992, mse = 6470.672077897803\n",
            "Iteration = 800000, B0 = 444.04483257879133, B1 = 2.6215143231227036, mse = 6470.418656244823\n",
            "Iteration = 1000000, B0 = 444.1599385302417, B1 = 2.6206670924287647, mse = 6470.414278142239\n",
            "Iteration = 1200000, B0 = 444.17506783203214, B1 = 2.620555734078538, mse = 6470.414202506315\n",
            "Iteration = 1400000, B0 = 444.1770563979531, B1 = 2.6205410973541645, mse = 6470.414201199627\n"
          ]
        }
      ]
    },
    {
      "cell_type": "code",
      "metadata": {
        "colab": {
          "base_uri": "https://localhost:8080/"
        },
        "id": "OwPvugJykfWb",
        "outputId": "6bd18bc8-45c2-4c83-bd38-9b475197ad0f"
      },
      "source": [
        "plt.scatter(x, y)\n",
        "plt.plot(x, B0 + x*B1)\n",
        "plt.xlabel('Значения величины заработной платы')\n",
        "plt.ylabel('Значения поведенческого кредитного скоринга')\n",
        "plt.show()"
      ],
      "execution_count": null,
      "outputs": [
        {
          "output_type": "display_data",
          "data": {
            "image/png": "[encoded data removed]",
            "text/plain": [
              "<Figure size 432x288 with 1 Axes>"
            ]
          },
          "metadata": {
            "needs_background": "light"
          }
        }
      ]
    }
  ]
}