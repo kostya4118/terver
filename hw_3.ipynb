{
  "nbformat": 4,
  "nbformat_minor": 0,
  "metadata": {
    "colab": {
      "name": "Untitled46.ipynb",
      "provenance": []
    },
    "kernelspec": {
      "name": "python3",
      "display_name": "Python 3"
    },
    "language_info": {
      "name": "python"
    }
  },
  "cells": [
    {
      "cell_type": "code",
      "metadata": {
        "id": "7z4IqNAULESi"
      },
      "source": [
        "import numpy as np\n",
        "from math import factorial as f"
      ],
      "execution_count": 9,
      "outputs": []
    },
    {
      "cell_type": "markdown",
      "metadata": {
        "id": "M-BK__GXHq6B"
      },
      "source": [
        "## Задание 1\n",
        "Даны значения зарплат из выборки выпускников: 100, 80, 75, 77, 89, 33, 45, 25, 65, 17, 30, 24, 57, 55, 70, 75, 65, 84, 90, 150. Посчитать (желательно без использования статистических методов наподобие std, var, mean) среднее арифметическое, среднее квадратичное отклонение, смещенную и несмещенную оценки дисперсий для данной выборки."
      ]
    },
    {
      "cell_type": "code",
      "metadata": {
        "id": "vUrGVwvR8Llk"
      },
      "source": [
        "zp = np.array([100, 80, 75, 77, 89, 33, 45, 25, 65, 17, 30, 24, 57, 55, 70, 75, 65, 84, 90, 150])"
      ],
      "execution_count": 10,
      "outputs": []
    },
    {
      "cell_type": "markdown",
      "metadata": {
        "id": "mUBVTrhi82l-"
      },
      "source": [
        "Найдём среднее арифметическое"
      ]
    },
    {
      "cell_type": "code",
      "metadata": {
        "colab": {
          "base_uri": "https://localhost:8080/"
        },
        "id": "mvqvwZWX88UR",
        "outputId": "2518f702-85e9-48e7-d2ca-0fd00db727c5"
      },
      "source": [
        "m = sum(zp)/len(zp)\n",
        "m"
      ],
      "execution_count": 11,
      "outputs": [
        {
          "output_type": "execute_result",
          "data": {
            "text/plain": [
              "65.3"
            ]
          },
          "metadata": {},
          "execution_count": 11
        }
      ]
    },
    {
      "cell_type": "markdown",
      "metadata": {
        "id": "ce_NyrAu9YXZ"
      },
      "source": [
        "Найдём среднее квадратичное отклонение"
      ]
    },
    {
      "cell_type": "code",
      "metadata": {
        "id": "7LBuudxx9h8A",
        "colab": {
          "base_uri": "https://localhost:8080/"
        },
        "outputId": "224db042-8001-4e81-c6d7-0b23a11eed2f"
      },
      "source": [
        "sig = np.sqrt(((zp - m)**2).sum()/len(zp))\n",
        "sig"
      ],
      "execution_count": 12,
      "outputs": [
        {
          "output_type": "execute_result",
          "data": {
            "text/plain": [
              "30.823854398825596"
            ]
          },
          "metadata": {},
          "execution_count": 12
        }
      ]
    },
    {
      "cell_type": "markdown",
      "metadata": {
        "id": "YfP1bIZ0GQbF"
      },
      "source": [
        "Найдём смещенную оценку дисперсии"
      ]
    },
    {
      "cell_type": "code",
      "metadata": {
        "colab": {
          "base_uri": "https://localhost:8080/"
        },
        "id": "35_ziczyGiWc",
        "outputId": "9785da97-982e-42e9-ff53-4be754ef9ed6"
      },
      "source": [
        "S_2 = ((zp - m)**2).sum()/len(zp)\n",
        "S_2"
      ],
      "execution_count": 13,
      "outputs": [
        {
          "output_type": "execute_result",
          "data": {
            "text/plain": [
              "950.11"
            ]
          },
          "metadata": {},
          "execution_count": 13
        }
      ]
    },
    {
      "cell_type": "markdown",
      "metadata": {
        "id": "XE2K_CnFG0ND"
      },
      "source": [
        "Найдём несмещенную оценку дисперсии"
      ]
    },
    {
      "cell_type": "code",
      "metadata": {
        "colab": {
          "base_uri": "https://localhost:8080/"
        },
        "id": "m9AktBx0G6P9",
        "outputId": "084b9378-f8e2-44b7-b0e5-474fc0968e70"
      },
      "source": [
        "S_2 = ((zp - m)**2).sum()/(len(zp) - 1)\n",
        "S_2"
      ],
      "execution_count": 14,
      "outputs": [
        {
          "output_type": "execute_result",
          "data": {
            "text/plain": [
              "1000.1157894736842"
            ]
          },
          "metadata": {},
          "execution_count": 14
        }
      ]
    },
    {
      "cell_type": "markdown",
      "metadata": {
        "id": "5DhVZOPFI0MI"
      },
      "source": [
        "## Задание 2\n",
        "В первом ящике находится 8 мячей, из которых 5 - белые. Во втором ящике - 12 мячей, из которых 5 белых. Из первого ящика вытаскивают случайным образом два мяча, из второго - 4. Какова вероятность того, что 3 мяча белые?"
      ]
    },
    {
      "cell_type": "markdown",
      "metadata": {
        "id": "hptqo9-zJcdb"
      },
      "source": [
        "Вероятность того, что 3 мяча белые, будет равна **сумме вероятностей трёх возможных событий**: достанем 2 белых мяча из первого ящика и 1 из второго, достанем 1 белый мяч из первого ящика и 2 из второго, достанем 0 белых мячей из первого ящика и 3 из второго."
      ]
    },
    {
      "cell_type": "code",
      "metadata": {
        "colab": {
          "base_uri": "https://localhost:8080/"
        },
        "id": "ey6UbDMiK8Pc",
        "outputId": "08113858-5a2a-449c-ac65-d452c7dd0d8f"
      },
      "source": [
        "def c(n, k):\n",
        "    return f(n) / (f(k) * f(n-k))\n",
        "\n",
        "P = ((c(5, 2) * c(8-5, 2-2) / c(8, 2)) * (c(5, 1) * c(12-5, 4-1) / c(12, 4))) + ((c(5, 1) * c(8-5, 2-1) / c(8, 2)) * (c(5, 2) * c(12-5, 4-2) / c(12, 4))) + ((c(5, 0) * c(8-5, 2-0) / c(8, 2)) * (c(5, 3) * c(12-5, 4-3) / c(12, 4)))\n",
        "P"
      ],
      "execution_count": 15,
      "outputs": [
        {
          "output_type": "execute_result",
          "data": {
            "text/plain": [
              "0.3686868686868687"
            ]
          },
          "metadata": {},
          "execution_count": 15
        }
      ]
    },
    {
      "cell_type": "markdown",
      "metadata": {
        "id": "NUr8bi03jp12"
      },
      "source": [
        "## Задание 3\n",
        "На соревновании по биатлону один из трех спортсменов стреляет и попадает в мишень. Вероятность попадания для первого спортсмена равна 0.9, для второго — 0.8, для третьего — 0.6. Найти вероятность того, что выстрел произведен: a). первым спортсменом б). вторым спортсменом в). третьим спортсменом."
      ]
    },
    {
      "cell_type": "markdown",
      "metadata": {
        "id": "Qgg9PsvbltzB"
      },
      "source": [
        "Найдём полную вероятность события (попадание в мишень)."
      ]
    },
    {
      "cell_type": "code",
      "metadata": {
        "colab": {
          "base_uri": "https://localhost:8080/"
        },
        "id": "iyodAdwwmG3m",
        "outputId": "290a3499-4fd5-4f3d-b2f8-62b3fe231e08"
      },
      "source": [
        "P = 1/3 * 0.9 + 1/3 * 0.8 + 1/3 * 0.6\n",
        "P"
      ],
      "execution_count": 16,
      "outputs": [
        {
          "output_type": "execute_result",
          "data": {
            "text/plain": [
              "0.7666666666666666"
            ]
          },
          "metadata": {},
          "execution_count": 16
        }
      ]
    },
    {
      "cell_type": "markdown",
      "metadata": {
        "id": "3v6ohe-tmu21"
      },
      "source": [
        "Найдём вероятность того, что выстрел произведен первым спортсменом. Для чего воспользуемся формулой Байеса."
      ]
    },
    {
      "cell_type": "code",
      "metadata": {
        "colab": {
          "base_uri": "https://localhost:8080/"
        },
        "id": "T9MRbx3inPRT",
        "outputId": "954146be-11b4-48a0-e896-2643e7990ff2"
      },
      "source": [
        "P_1 = (1/3 * 0.9)/P\n",
        "P_1"
      ],
      "execution_count": 17,
      "outputs": [
        {
          "output_type": "execute_result",
          "data": {
            "text/plain": [
              "0.391304347826087"
            ]
          },
          "metadata": {},
          "execution_count": 17
        }
      ]
    },
    {
      "cell_type": "markdown",
      "metadata": {
        "id": "S7J1NVlxn7MO"
      },
      "source": [
        "Найдём вероятность того, что выстрел произведен вторым спортсменом."
      ]
    },
    {
      "cell_type": "code",
      "metadata": {
        "colab": {
          "base_uri": "https://localhost:8080/"
        },
        "id": "z-BdcV4LoFui",
        "outputId": "9ee7e584-ed88-490b-8f1c-204f3bad6584"
      },
      "source": [
        "P_2 = (1/3 * 0.8)/P\n",
        "P_2"
      ],
      "execution_count": 18,
      "outputs": [
        {
          "output_type": "execute_result",
          "data": {
            "text/plain": [
              "0.3478260869565218"
            ]
          },
          "metadata": {},
          "execution_count": 18
        }
      ]
    },
    {
      "cell_type": "markdown",
      "metadata": {
        "id": "MhDJ1oKZn_wn"
      },
      "source": [
        "Найдём вероятность того, что выстрел произведен третьим спортсменом."
      ]
    },
    {
      "cell_type": "code",
      "metadata": {
        "colab": {
          "base_uri": "https://localhost:8080/"
        },
        "id": "Qhlpd16boP9z",
        "outputId": "1b9df8fe-9daa-4c52-df81-25578e9d1faa"
      },
      "source": [
        "P_3 = (1/3 * 0.6)/P\n",
        "P_3"
      ],
      "execution_count": 19,
      "outputs": [
        {
          "output_type": "execute_result",
          "data": {
            "text/plain": [
              "0.2608695652173913"
            ]
          },
          "metadata": {},
          "execution_count": 19
        }
      ]
    },
    {
      "cell_type": "markdown",
      "metadata": {
        "id": "Trkix4pro_DH"
      },
      "source": [
        "## Задание 4\n",
        "В университет на факультеты A и B поступило равное количество студентов, а на факультет C студентов поступило столько же, сколько на A и B вместе. Вероятность того, что студент факультета A сдаст первую сессию, равна 0.8. Для студента факультета B эта вероятность равна 0.7, а для студента факультета C - 0.9. Студент сдал первую сессию. Какова вероятность, что он учится: a). на факультете A б). на факультете B в). на факультете C?"
      ]
    },
    {
      "cell_type": "markdown",
      "metadata": {
        "id": "uS1j3lWUrXqh"
      },
      "source": [
        "Доля студентов факультета А от общего количества - 1/4. Доля студентов факультета B от общего количества - 1/4. Доля студентов факультета C от общего количества - 1/2. \\\\\n",
        "Найдём полную вероятность события (студент сдал первую сессию)."
      ]
    },
    {
      "cell_type": "code",
      "metadata": {
        "colab": {
          "base_uri": "https://localhost:8080/"
        },
        "id": "t9tllCDTsbLp",
        "outputId": "6e51d894-fcf3-45ca-b2fa-c7ee0f984c51"
      },
      "source": [
        "P = 1/4 * 0.8 + 1/4 * 0.7 + 1/2 * 0.9\n",
        "P"
      ],
      "execution_count": 20,
      "outputs": [
        {
          "output_type": "execute_result",
          "data": {
            "text/plain": [
              "0.825"
            ]
          },
          "metadata": {},
          "execution_count": 20
        }
      ]
    },
    {
      "cell_type": "markdown",
      "metadata": {
        "id": "ymKfpnZztCxs"
      },
      "source": [
        "По формуле Байеса  вероятность, что студент учится: a). на факультете A"
      ]
    },
    {
      "cell_type": "code",
      "metadata": {
        "colab": {
          "base_uri": "https://localhost:8080/"
        },
        "id": "lbse-VZotACo",
        "outputId": "2599dbb7-8621-4eab-8f26-bf54debbab12"
      },
      "source": [
        "P_A = (1/4 * 0.8) / P\n",
        "P_A"
      ],
      "execution_count": 21,
      "outputs": [
        {
          "output_type": "execute_result",
          "data": {
            "text/plain": [
              "0.24242424242424246"
            ]
          },
          "metadata": {},
          "execution_count": 21
        }
      ]
    },
    {
      "cell_type": "markdown",
      "metadata": {
        "id": "Rc4O88lVtb87"
      },
      "source": [
        " б). на факультете B "
      ]
    },
    {
      "cell_type": "code",
      "metadata": {
        "colab": {
          "base_uri": "https://localhost:8080/"
        },
        "id": "iHY2w_S8t49Q",
        "outputId": "84b1115f-25c7-44d1-ba1a-d9ddb5ad1c26"
      },
      "source": [
        "P_B = (1/4 * 0.7) / P\n",
        "P_B"
      ],
      "execution_count": 22,
      "outputs": [
        {
          "output_type": "execute_result",
          "data": {
            "text/plain": [
              "0.21212121212121213"
            ]
          },
          "metadata": {},
          "execution_count": 22
        }
      ]
    },
    {
      "cell_type": "markdown",
      "metadata": {
        "id": "l8SHVy-Htf9Z"
      },
      "source": [
        "в). на факультете C"
      ]
    },
    {
      "cell_type": "code",
      "metadata": {
        "colab": {
          "base_uri": "https://localhost:8080/"
        },
        "id": "ZCsBiDrauEgu",
        "outputId": "5f22712d-9741-437f-b322-e9a8856bd25c"
      },
      "source": [
        "P_C = (1/2 * 0.9) / P\n",
        "P_C"
      ],
      "execution_count": 23,
      "outputs": [
        {
          "output_type": "execute_result",
          "data": {
            "text/plain": [
              "0.5454545454545455"
            ]
          },
          "metadata": {},
          "execution_count": 23
        }
      ]
    },
    {
      "cell_type": "markdown",
      "metadata": {
        "id": "dH2LLOGpugn1"
      },
      "source": [
        "## Задание 5\n",
        "Устройство состоит из трех деталей. Для первой детали вероятность выйти из строя в первый месяц равна 0.1, для второй - 0.2, для третьей - 0.25. Какова вероятность того, что в первый месяц выйдут из строя: а). все детали б). только две детали в). хотя бы одна деталь г). от одной до двух деталей?"
      ]
    },
    {
      "cell_type": "markdown",
      "metadata": {
        "id": "3mVG0gjBO4RT"
      },
      "source": [
        "а) Нужно просто перемножить вероятности поломки каждой детали."
      ]
    },
    {
      "cell_type": "code",
      "metadata": {
        "colab": {
          "base_uri": "https://localhost:8080/"
        },
        "id": "DnShyc9FPK3E",
        "outputId": "dbe17d9b-c11f-42f7-d590-084d61c4c223"
      },
      "source": [
        "P_a = 0.1 * 0.2 * 0.25\n",
        "P_a"
      ],
      "execution_count": 24,
      "outputs": [
        {
          "output_type": "execute_result",
          "data": {
            "text/plain": [
              "0.005000000000000001"
            ]
          },
          "metadata": {},
          "execution_count": 24
        }
      ]
    },
    {
      "cell_type": "markdown",
      "metadata": {
        "id": "fUo5fyqoQV7T"
      },
      "source": [
        "б) Необходимо рассмотреть 3 варианта: сломаютстя детали 1 и 2, но не 3; сломаютстя детали 1 и 3, но не 2; сломаютстя детали 2 и 3, но не 1. Затем найдём сумму вероятностей этих событий."
      ]
    },
    {
      "cell_type": "code",
      "metadata": {
        "colab": {
          "base_uri": "https://localhost:8080/"
        },
        "id": "2iWB-MhxR6G4",
        "outputId": "86fb140c-ed6d-4715-d8bb-49c7e7fc7ea8"
      },
      "source": [
        "P_b = 0.1 * 0.2 * (1 - 0.25) + 0.1 * 0.25 * (1 - 0.2) + 0.2 * 0.25 * (1 - 0.1)\n",
        "P_b"
      ],
      "execution_count": 25,
      "outputs": [
        {
          "output_type": "execute_result",
          "data": {
            "text/plain": [
              "0.08000000000000002"
            ]
          },
          "metadata": {},
          "execution_count": 25
        }
      ]
    },
    {
      "cell_type": "markdown",
      "metadata": {
        "id": "zchCj3q4SxvG"
      },
      "source": [
        "в) Найдём вероятность того, что сломается 0 деталей, и отнимем её от единицы."
      ]
    },
    {
      "cell_type": "code",
      "metadata": {
        "colab": {
          "base_uri": "https://localhost:8080/"
        },
        "id": "J6w0fEWhUDUR",
        "outputId": "aaa3b112-ef8a-4bd4-eb93-f60a01d2447d"
      },
      "source": [
        "P_0 = (1 - 0.1) * (1 - 0.2) * (1 - 0.25)\n",
        "P_c = 1 - P_0\n",
        "P_c"
      ],
      "execution_count": 26,
      "outputs": [
        {
          "output_type": "execute_result",
          "data": {
            "text/plain": [
              "0.45999999999999996"
            ]
          },
          "metadata": {},
          "execution_count": 26
        }
      ]
    },
    {
      "cell_type": "markdown",
      "metadata": {
        "id": "hLeaaBeZUnM7"
      },
      "source": [
        "г) Необходимо от единицы отнять вероятность поломки одновременно трёх деталей и вероятность того, что не сломается ни одна деталь."
      ]
    },
    {
      "cell_type": "code",
      "metadata": {
        "colab": {
          "base_uri": "https://localhost:8080/"
        },
        "id": "R05vK8s-XbcS",
        "outputId": "73d24041-90fc-4884-ce12-c81b254dd00c"
      },
      "source": [
        "P_d = 1 - P_0 - P_a\n",
        "P_d"
      ],
      "execution_count": 27,
      "outputs": [
        {
          "output_type": "execute_result",
          "data": {
            "text/plain": [
              "0.45499999999999996"
            ]
          },
          "metadata": {},
          "execution_count": 27
        }
      ]
    }
  ]
}